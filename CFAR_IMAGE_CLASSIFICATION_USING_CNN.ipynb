{
  "nbformat": 4,
  "nbformat_minor": 0,
  "metadata": {
    "colab": {
      "provenance": []
    },
    "kernelspec": {
      "name": "python3",
      "display_name": "Python 3"
    },
    "language_info": {
      "name": "python"
    },
    "accelerator": "TPU",
    "gpuClass": "standard"
  },
  "cells": [
    {
      "cell_type": "code",
      "execution_count": null,
      "metadata": {
        "id": "5GZ-Cx0ykmUz"
      },
      "outputs": [],
      "source": [
        "import tensorflow as tf\n",
        "from tensorflow import keras\n",
        "from keras import datasets,layers,models\n",
        "import matplotlib.pyplot as plt\n",
        "import numpy as np\n"
      ]
    },
    {
      "cell_type": "code",
      "source": [
        "(X_train,y_train),(X_test,y_test) = datasets.cifar10.load_data()"
      ],
      "metadata": {
        "colab": {
          "base_uri": "https://localhost:8080/"
        },
        "id": "mVSg6LqamGmw",
        "outputId": "9dbaec3a-440f-482e-fee3-fb5c0b84c9fd"
      },
      "execution_count": null,
      "outputs": [
        {
          "output_type": "stream",
          "name": "stdout",
          "text": [
            "Downloading data from https://www.cs.toronto.edu/~kriz/cifar-10-python.tar.gz\n",
            "170498071/170498071 [==============================] - 3s 0us/step\n"
          ]
        }
      ]
    },
    {
      "cell_type": "code",
      "source": [
        "X_train.shape"
      ],
      "metadata": {
        "colab": {
          "base_uri": "https://localhost:8080/"
        },
        "id": "GYTHqonqmq6g",
        "outputId": "9fa2210d-a5bd-417d-cf55-31a470b530f5"
      },
      "execution_count": null,
      "outputs": [
        {
          "output_type": "execute_result",
          "data": {
            "text/plain": [
              "(50000, 32, 32, 3)"
            ]
          },
          "metadata": {},
          "execution_count": 5
        }
      ]
    },
    {
      "cell_type": "code",
      "source": [
        "X_test.shape"
      ],
      "metadata": {
        "colab": {
          "base_uri": "https://localhost:8080/"
        },
        "id": "AzovcyJBmtaI",
        "outputId": "02a40050-2d82-4300-a422-f316e396656e"
      },
      "execution_count": null,
      "outputs": [
        {
          "output_type": "execute_result",
          "data": {
            "text/plain": [
              "(10000, 32, 32, 3)"
            ]
          },
          "metadata": {},
          "execution_count": 6
        }
      ]
    },
    {
      "cell_type": "code",
      "source": [
        "X_train[0]"
      ],
      "metadata": {
        "colab": {
          "base_uri": "https://localhost:8080/"
        },
        "id": "D_yY3HKImyFe",
        "outputId": "7a46693c-c55b-41cb-8fc8-0e8c40483654"
      },
      "execution_count": null,
      "outputs": [
        {
          "output_type": "execute_result",
          "data": {
            "text/plain": [
              "array([[[ 59,  62,  63],\n",
              "        [ 43,  46,  45],\n",
              "        [ 50,  48,  43],\n",
              "        ...,\n",
              "        [158, 132, 108],\n",
              "        [152, 125, 102],\n",
              "        [148, 124, 103]],\n",
              "\n",
              "       [[ 16,  20,  20],\n",
              "        [  0,   0,   0],\n",
              "        [ 18,   8,   0],\n",
              "        ...,\n",
              "        [123,  88,  55],\n",
              "        [119,  83,  50],\n",
              "        [122,  87,  57]],\n",
              "\n",
              "       [[ 25,  24,  21],\n",
              "        [ 16,   7,   0],\n",
              "        [ 49,  27,   8],\n",
              "        ...,\n",
              "        [118,  84,  50],\n",
              "        [120,  84,  50],\n",
              "        [109,  73,  42]],\n",
              "\n",
              "       ...,\n",
              "\n",
              "       [[208, 170,  96],\n",
              "        [201, 153,  34],\n",
              "        [198, 161,  26],\n",
              "        ...,\n",
              "        [160, 133,  70],\n",
              "        [ 56,  31,   7],\n",
              "        [ 53,  34,  20]],\n",
              "\n",
              "       [[180, 139,  96],\n",
              "        [173, 123,  42],\n",
              "        [186, 144,  30],\n",
              "        ...,\n",
              "        [184, 148,  94],\n",
              "        [ 97,  62,  34],\n",
              "        [ 83,  53,  34]],\n",
              "\n",
              "       [[177, 144, 116],\n",
              "        [168, 129,  94],\n",
              "        [179, 142,  87],\n",
              "        ...,\n",
              "        [216, 184, 140],\n",
              "        [151, 118,  84],\n",
              "        [123,  92,  72]]], dtype=uint8)"
            ]
          },
          "metadata": {},
          "execution_count": 7
        }
      ]
    },
    {
      "cell_type": "code",
      "source": [
        "plt.imshow(X_train[0])"
      ],
      "metadata": {
        "colab": {
          "base_uri": "https://localhost:8080/",
          "height": 283
        },
        "id": "sDmXBDB1m0cN",
        "outputId": "64ba5517-8f08-4fda-a924-872cc073d98d"
      },
      "execution_count": null,
      "outputs": [
        {
          "output_type": "execute_result",
          "data": {
            "text/plain": [
              "<matplotlib.image.AxesImage at 0x7f3552f05fd0>"
            ]
          },
          "metadata": {},
          "execution_count": 8
        },
        {
          "output_type": "display_data",
          "data": {
            "text/plain": [
              "<Figure size 432x288 with 1 Axes>"
            ],
            "image/png": "[encoded data removed]"
          },
          "metadata": {
            "needs_background": "light"
          }
        }
      ]
    },
    {
      "cell_type": "code",
      "source": [
        "y_train = y_train.reshape(-1,)  #reshaping the 2D to 1d"
      ],
      "metadata": {
        "id": "sfbh5teKn5-9"
      },
      "execution_count": null,
      "outputs": []
    },
    {
      "cell_type": "code",
      "source": [
        "y_train[:5]"
      ],
      "metadata": {
        "colab": {
          "base_uri": "https://localhost:8080/"
        },
        "id": "D8EiQlrNoDhs",
        "outputId": "06bdf6a3-69a3-42f6-f341-c45111a9c4f0"
      },
      "execution_count": null,
      "outputs": [
        {
          "output_type": "execute_result",
          "data": {
            "text/plain": [
              "array([6, 9, 9, 4, 1], dtype=uint8)"
            ]
          },
          "metadata": {},
          "execution_count": 10
        }
      ]
    },
    {
      "cell_type": "code",
      "source": [],
      "metadata": {
        "id": "1TlPe0XhoIYl"
      },
      "execution_count": null,
      "outputs": []
    },
    {
      "cell_type": "code",
      "source": [
        "classes=[\"airplane\",\"automobile\",\"bird\",\"cat\",\"deer\",\"dog\",\"frog\",\"horse\",\"ship\",\"truck\"]"
      ],
      "metadata": {
        "id": "81xS7F9bm6o8"
      },
      "execution_count": null,
      "outputs": []
    },
    {
      "cell_type": "code",
      "source": [
        "classes[9]"
      ],
      "metadata": {
        "colab": {
          "base_uri": "https://localhost:8080/",
          "height": 36
        },
        "id": "DKhHyON9oOHX",
        "outputId": "dc0c1507-9457-4339-9d2b-e9421abcb38b"
      },
      "execution_count": null,
      "outputs": [
        {
          "output_type": "execute_result",
          "data": {
            "text/plain": [
              "'truck'"
            ],
            "application/vnd.google.colaboratory.intrinsic+json": {
              "type": "string"
            }
          },
          "metadata": {},
          "execution_count": 12
        }
      ]
    },
    {
      "cell_type": "code",
      "source": [
        "def plot_sample(X,y,index):\n",
        "  plt.figure(figsize=(15,2))\n",
        "  plt.imshow(X[index])\n",
        "  plt.xlabel(classes[y[index]])"
      ],
      "metadata": {
        "id": "vNDqqUBgnTeB"
      },
      "execution_count": null,
      "outputs": []
    },
    {
      "cell_type": "code",
      "source": [
        "plot_sample(X_train,y_train,7)"
      ],
      "metadata": {
        "colab": {
          "base_uri": "https://localhost:8080/",
          "height": 173
        },
        "id": "gsfkntooni5y",
        "outputId": "0410f065-c7dc-4922-8b17-5e0585df2fc8"
      },
      "execution_count": null,
      "outputs": [
        {
          "output_type": "display_data",
          "data": {
            "text/plain": [
              "<Figure size 1080x144 with 1 Axes>"
            ],
            "image/png": "[encoded data removed]"
          },
          "metadata": {
            "needs_background": "light"
          }
        }
      ]
    },
    {
      "cell_type": "code",
      "source": [
        "X_train = X_train/255\n",
        "X_test = X_test/255"
      ],
      "metadata": {
        "id": "2qo19EKvohNR"
      },
      "execution_count": null,
      "outputs": []
    },
    {
      "cell_type": "code",
      "source": [
        "#strides=(2,2)\n",
        "#padding=\"same\"\n",
        "cnn = models.Sequential([\n",
        "    layers.Conv2D(filters=32, kernel_size=(3, 3),activation='relu', input_shape=(32, 32, 3)),\n",
        "    layers.MaxPooling2D((2, 2)),\n",
        "    \n",
        "    layers.Conv2D(filters=64, kernel_size=(3, 3), activation='relu'),\n",
        "    layers.MaxPooling2D((2, 2)),\n",
        "    \n",
        "    layers.Flatten(),\n",
        "    layers.Dense(64, activation='relu'),\n",
        "    layers.Dense(10, activation='softmax')\n",
        "])"
      ],
      "metadata": {
        "id": "3mTroTwPqBhK"
      },
      "execution_count": null,
      "outputs": []
    },
    {
      "cell_type": "code",
      "source": [
        "cnn.compile(optimizer='adam',\n",
        "              loss='sparse_categorical_crossentropy',\n",
        "              metrics=['accuracy'])"
      ],
      "metadata": {
        "id": "dXo9wcMEsKAE"
      },
      "execution_count": null,
      "outputs": []
    },
    {
      "cell_type": "code",
      "source": [
        "cnn.fit(X_train,y_train,epochs=10)"
      ],
      "metadata": {
        "colab": {
          "base_uri": "https://localhost:8080/"
        },
        "id": "VNn5CZ8steqJ",
        "outputId": "71ef36ab-7175-4f08-9550-d2a8769623db"
      },
      "execution_count": null,
      "outputs": [
        {
          "output_type": "stream",
          "name": "stdout",
          "text": [
            "Epoch 1/10\n",
            "1563/1563 [==============================] - 79s 50ms/step - loss: 1.4838 - accuracy: 0.4669\n",
            "Epoch 2/10\n",
            "1563/1563 [==============================] - 79s 50ms/step - loss: 1.1297 - accuracy: 0.6065\n",
            "Epoch 3/10\n",
            "1563/1563 [==============================] - 77s 49ms/step - loss: 0.9984 - accuracy: 0.6503\n",
            "Epoch 4/10\n",
            "1563/1563 [==============================] - 79s 51ms/step - loss: 0.9164 - accuracy: 0.6814\n",
            "Epoch 5/10\n",
            "1563/1563 [==============================] - 78s 50ms/step - loss: 0.8572 - accuracy: 0.7023\n",
            "Epoch 6/10\n",
            "1563/1563 [==============================] - 78s 50ms/step - loss: 0.7997 - accuracy: 0.7230\n",
            "Epoch 7/10\n",
            "1563/1563 [==============================] - 77s 50ms/step - loss: 0.7563 - accuracy: 0.7366\n",
            "Epoch 8/10\n",
            "1563/1563 [==============================] - 80s 51ms/step - loss: 0.7143 - accuracy: 0.7513\n",
            "Epoch 9/10\n",
            "1563/1563 [==============================] - 93s 60ms/step - loss: 0.6715 - accuracy: 0.7665\n",
            "Epoch 10/10\n",
            "1563/1563 [==============================] - 92s 59ms/step - loss: 0.6408 - accuracy: 0.7769\n"
          ]
        },
        {
          "output_type": "execute_result",
          "data": {
            "text/plain": [
              "<keras.callbacks.History at 0x7f355062fd00>"
            ]
          },
          "metadata": {},
          "execution_count": 18
        }
      ]
    },
    {
      "cell_type": "code",
      "source": [
        "cnn.evaluate(X_test,y_test)"
      ],
      "metadata": {
        "colab": {
          "base_uri": "https://localhost:8080/"
        },
        "id": "_mcALpQyyUkB",
        "outputId": "88348445-3a84-4496-8162-24737d50a0db"
      },
      "execution_count": null,
      "outputs": [
        {
          "output_type": "stream",
          "name": "stdout",
          "text": [
            "313/313 [==============================] - 6s 17ms/step - loss: 0.9772 - accuracy: 0.6845\n"
          ]
        },
        {
          "output_type": "execute_result",
          "data": {
            "text/plain": [
              "[0.9771595597267151, 0.684499979019165]"
            ]
          },
          "metadata": {},
          "execution_count": 19
        }
      ]
    },
    {
      "cell_type": "code",
      "source": [
        "y_pred = cnn.predict(X_test)\n",
        "y_pred[:5]"
      ],
      "metadata": {
        "colab": {
          "base_uri": "https://localhost:8080/"
        },
        "id": "U2FMqBoSyjRN",
        "outputId": "1a7fc4fe-3d37-4378-f1bf-cbb834c342f9"
      },
      "execution_count": null,
      "outputs": [
        {
          "output_type": "stream",
          "name": "stdout",
          "text": [
            "313/313 [==============================] - 7s 21ms/step\n"
          ]
        },
        {
          "output_type": "execute_result",
          "data": {
            "text/plain": [
              "array([[1.26166735e-02, 1.43906538e-04, 3.66557180e-03, 6.82934821e-01,\n",
              "        2.81584889e-05, 2.61019409e-01, 1.63009074e-02, 2.10273574e-05,\n",
              "        2.27279793e-02, 5.41682879e-04],\n",
              "       [1.81647320e-03, 9.62828696e-02, 4.15903514e-06, 1.17838863e-06,\n",
              "        2.36071251e-08, 5.56501583e-08, 6.39976179e-08, 4.07247747e-08,\n",
              "        9.00937140e-01, 9.57907701e-04],\n",
              "       [2.11365268e-01, 1.50181040e-01, 5.53120160e-03, 4.87184804e-03,\n",
              "        9.72716790e-03, 2.99034436e-04, 8.46540148e-04, 6.57408847e-04,\n",
              "        4.95779663e-01, 1.20740846e-01],\n",
              "       [8.74802172e-01, 1.01952441e-03, 1.83621782e-03, 3.40333136e-05,\n",
              "        9.12121206e-04, 1.39215629e-07, 1.47635444e-06, 1.12919415e-05,\n",
              "        1.21047162e-01, 3.35917925e-04],\n",
              "       [6.43593057e-06, 6.10008952e-04, 6.03476493e-03, 9.95926559e-02,\n",
              "        1.80943802e-01, 6.26979349e-03, 7.05445051e-01, 2.28973549e-05,\n",
              "        1.05636613e-03, 1.81771029e-05]], dtype=float32)"
            ]
          },
          "metadata": {},
          "execution_count": 20
        }
      ]
    },
    {
      "cell_type": "code",
      "source": [
        "y_classes = [np.argmax(element) for element in y_pred]\n",
        "y_classes[:5]"
      ],
      "metadata": {
        "colab": {
          "base_uri": "https://localhost:8080/"
        },
        "id": "nNpQlH_HypJv",
        "outputId": "ee1318c7-993d-4240-8903-1064a1eed1cb"
      },
      "execution_count": null,
      "outputs": [
        {
          "output_type": "execute_result",
          "data": {
            "text/plain": [
              "[3, 8, 8, 0, 6]"
            ]
          },
          "metadata": {},
          "execution_count": 21
        }
      ]
    },
    {
      "cell_type": "code",
      "source": [
        "y_test[:5]"
      ],
      "metadata": {
        "colab": {
          "base_uri": "https://localhost:8080/"
        },
        "id": "CLUiLhUHytg8",
        "outputId": "f1180613-c257-41bb-f1e0-53ae8fc5030d"
      },
      "execution_count": null,
      "outputs": [
        {
          "output_type": "execute_result",
          "data": {
            "text/plain": [
              "array([[3],\n",
              "       [8],\n",
              "       [8],\n",
              "       [0],\n",
              "       [6]], dtype=uint8)"
            ]
          },
          "metadata": {},
          "execution_count": 22
        }
      ]
    },
    {
      "cell_type": "code",
      "source": [
        "y_test = y_test.reshape(-1,)"
      ],
      "metadata": {
        "id": "wtwKgmgmzk3e"
      },
      "execution_count": null,
      "outputs": []
    },
    {
      "cell_type": "code",
      "source": [
        "plot_sample(X_test, y_test,3)"
      ],
      "metadata": {
        "colab": {
          "base_uri": "https://localhost:8080/",
          "height": 173
        },
        "id": "61A21HvTywov",
        "outputId": "8fda7481-bc79-4e3c-b1c9-eaecd1c13cd1"
      },
      "execution_count": null,
      "outputs": [
        {
          "output_type": "display_data",
          "data": {
            "text/plain": [
              "<Figure size 1080x144 with 1 Axes>"
            ],
            "image/png": "[encoded data removed]"
          },
          "metadata": {
            "needs_background": "light"
          }
        }
      ]
    },
    {
      "cell_type": "code",
      "source": [],
      "metadata": {
        "id": "63drh3Ezy0xo"
      },
      "execution_count": null,
      "outputs": []
    }
  ]
}